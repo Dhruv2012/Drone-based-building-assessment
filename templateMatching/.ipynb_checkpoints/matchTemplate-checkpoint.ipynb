{
 "cells": [
  {
   "cell_type": "code",
   "execution_count": 8,
   "metadata": {},
   "outputs": [],
   "source": [
    "import cv2   \n",
    "import numpy as np   \n",
    "import matplotlib.pyplot as plt"
   ]
  },
  {
   "cell_type": "code",
   "execution_count": 9,
   "metadata": {},
   "outputs": [],
   "source": [
    "fileName = 'vis_Bakul_002_000920.png'\n",
    "imgDirPath = 'F:\\\\IIIT-H Work\\\\win_det_heatmaps\\\\rrcServerData\\\\templateMatching\\\\images\\\\resnet\\\\'\n",
    "imgPath = imgDirPath + fileName\n",
    "# Reading the main image   \n",
    "img_rgb = cv2.imread(imgPath,1)  \n",
    "# It is need to be convert it to grayscale   "
   ]
  },
  {
   "cell_type": "markdown",
   "metadata": {},
   "source": [
    "Read the template   "
   ]
  },
  {
   "cell_type": "code",
   "execution_count": 10,
   "metadata": {},
   "outputs": [
    {
     "name": "stdout",
     "output_type": "stream",
     "text": [
      "(22, 138, 3)\n"
     ]
    },
    {
     "data": {
      "image/png": "[encoded data removed]",
      "text/plain": [
       "<Figure size 432x288 with 1 Axes>"
      ]
     },
     "metadata": {
      "needs_background": "light"
     },
     "output_type": "display_data"
    }
   ],
   "source": [
    "template = img_rgb[316:454,698:866, :]\n",
    "print(template.shape)\n",
    "plt.imshow(template)\n",
    "plt.title('template') \n",
    "searchImg = img_rgb[316:454, : ,:]"
   ]
  },
  {
   "cell_type": "code",
   "execution_count": null,
   "metadata": {},
   "outputs": [],
   "source": [
    "img_gray = cv2.cvtColor(img_rgb, cv2.COLOR_BGR2GRAY)   \n",
    "template_gray = cv2.cvtColor(template, cv2.COLOR_BGR2GRAY)   \n",
    "searchImg_gray = cv2.cvtColor(searchImg, cv2.COLOR_BGR2GRAY)"
   ]
  },
  {
   "cell_type": "code",
   "execution_count": null,
   "metadata": {},
   "outputs": [],
   "source": [
    "print('img_grayshape', img_gray.shape)"
   ]
  },
  {
   "cell_type": "code",
   "execution_count": null,
   "metadata": {},
   "outputs": [],
   "source": [
    "print(template_gray.shape)\n",
    "# Store width in variable w and height in variable h of template  \n",
    "w, h = template_gray.shape[::-1]   \n",
    "# Now we perform match operations.   \n",
    "res = cv2.matchTemplate(searchImg_gray,template_gray,cv2.TM_CCOEFF_NORMED)   \n",
    "# Declare a threshold   \n",
    "threshold = 0.6\n",
    "# Store the coordinates of matched region in a numpy array   \n",
    "loc = np.where( res >= threshold)   \n",
    "# Draw a rectangle around the matched region.   \n",
    "for pt in zip(*loc[::-1]):   \n",
    "    cv2.rectangle(searchImg, pt, (pt[0] + w, pt[1] + h), (255,0,0), 1)   \n",
    "# Now display the final matched template image   \n",
    "cv2.imshow('Detected',searchImg)  \n",
    "cv2.imwrite('Template_' +  '0.6_threshold_' + fileName, template)\n",
    "cv2.imwrite('TemplateMatched_'  + '0.6_threshold_' + fileName, searchImg)\n",
    "# wait for a key to be pressed to exit\n",
    "cv2.waitKey(0)"
   ]
  },
  {
   "cell_type": "markdown",
   "metadata": {},
   "source": [
    "close the window"
   ]
  },
  {
   "cell_type": "code",
   "execution_count": null,
   "metadata": {},
   "outputs": [],
   "source": [
    "cv2.destroyAllWindows()"
   ]
  }
 ],
 "metadata": {
  "kernelspec": {
   "display_name": "Python 3",
   "language": "python",
   "name": "python3"
  },
  "language_info": {
   "codemirror_mode": {
    "name": "ipython",
    "version": 3
   },
   "file_extension": ".py",
   "mimetype": "text/x-python",
   "name": "python",
   "nbconvert_exporter": "python",
   "pygments_lexer": "ipython3",
   "version": "3.8.8"
  }
 },
 "nbformat": 4,
 "nbformat_minor": 2
}
