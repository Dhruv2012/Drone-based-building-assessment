{
 "cells": [
  {
   "cell_type": "code",
   "execution_count": null,
   "id": "a69bb80d",
   "metadata": {},
   "outputs": [],
   "source": [
    "# myfile_cameras = '/home/shivani/Documents/BuildingInspection/SFM/sparse/0/cameras.bin'\n",
    "# myfile_cameras = '/home/shivani/Documents/BuildingInspection/SFM/sparse/0/cameras.bin'\n",
    "# myfile_cameras = '/home/shivani/Documents/BuildingInspection/SFM/sparse/0/cameras.bin'\n",
    "\n",
    "# import numpy as np\n",
    "\n",
    "# dtype = np.dtype('B')\n",
    "# try:\n",
    "#     with open(myfile_cameras, \"rb\") as f:\n",
    "#         numpy_data = np.fromfile(f,dtype)\n",
    "#     print(numpy_data)\n",
    "# except IOError:\n",
    "#     print('Error While Opening the file!')    \n",
    "\n",
    "# print(numpy_data.shape)\n",
    "# for i in range(numpy_data.shape[0]):\n",
    "#     print(i, numpy_data[i])"
   ]
  },
  {
   "cell_type": "code",
   "execution_count": 1,
   "id": "ed53afaf",
   "metadata": {},
   "outputs": [
    {
     "name": "stdout",
     "output_type": "stream",
     "text": [
      "Jupyter environment detected. Enabling Open3D WebVisualizer.\n",
      "[Open3D INFO] WebRTC GUI backend enabled.\n",
      "[Open3D INFO] WebRTCWindowSystem: HTTP handshake server disabled.\n"
     ]
    },
    {
     "data": {
      "text/plain": [
       "'\\ncameras:\\nCAMERA_ID, MODEL, WIDTH, HEIGHT, PARAMS[single focal length, principal point x, principlal point y, distortion coeff]\\n\\nimages: (Image list with two lines of data per image:)\\nIMAGE_ID, QW, QX, QY, QZ, TX, TY, TZ, CAMERA_ID, NAME\\nPOINTS2D[] as (X, Y, POINT3D_ID)\\n\\nkey 2d points used in the image are in POINTS2D and each of these points are related to a 3d point\\nif POINT3D_ID = -1, it means that 2d point is not used in reconstruction\\n\\npoints3D: (3D point list with one line of data per point:)\\nPOINT3D_ID, X, Y, Z, R, G, B, ERROR, TRACK[] as (IMAGE_ID, POINT2D_IDX)\\n\\nThe error is given in pixels of reprojection error \\nand is only updated after global bundle adjustment\\n\\n'"
      ]
     },
     "execution_count": 1,
     "metadata": {},
     "output_type": "execute_result"
    }
   ],
   "source": [
    "import numpy as np\n",
    "import open3d as o3d\n",
    "import sympy as sp\n",
    "import cv2\n",
    "import csv\n",
    "import sys\n",
    "\n",
    "myfile_cameras = '/home/shivani/Documents/BuildingInspection/SFM/sparse/0/cameras.txt'\n",
    "myfile_images = '/home/shivani/Documents/BuildingInspection/SFM/sparse/0/images.txt'\n",
    "myfile_points3D = '/home/shivani/Documents/BuildingInspection/SFM/sparse/0/points3D.txt'\n",
    "\n",
    "'''\n",
    "cameras:\n",
    "CAMERA_ID, MODEL, WIDTH, HEIGHT, PARAMS[single focal length, principal point x, principlal point y, distortion coeff]\n",
    "\n",
    "images: (Image list with two lines of data per image:)\n",
    "IMAGE_ID, QW, QX, QY, QZ, TX, TY, TZ, CAMERA_ID, NAME\n",
    "POINTS2D[] as (X, Y, POINT3D_ID)\n",
    "\n",
    "key 2d points used in the image are in POINTS2D and each of these points are related to a 3d point\n",
    "if POINT3D_ID = -1, it means that 2d point is not used in reconstruction\n",
    "\n",
    "points3D: (3D point list with one line of data per point:)\n",
    "POINT3D_ID, X, Y, Z, R, G, B, ERROR, TRACK[] as (IMAGE_ID, POINT2D_IDX)\n",
    "\n",
    "The error is given in pixels of reprojection error \n",
    "and is only updated after global bundle adjustment\n",
    "\n",
    "'''"
   ]
  },
  {
   "cell_type": "code",
   "execution_count": 2,
   "id": "a7e3d27a",
   "metadata": {},
   "outputs": [
    {
     "name": "stderr",
     "output_type": "stream",
     "text": [
      "<>:48: SyntaxWarning: assertion is always true, perhaps remove parentheses?\n",
      "<>:48: SyntaxWarning: assertion is always true, perhaps remove parentheses?\n",
      "<>:48: SyntaxWarning: assertion is always true, perhaps remove parentheses?\n",
      "<ipython-input-2-89b5428bbe43>:48: SyntaxWarning: assertion is always true, perhaps remove parentheses?\n",
      "  assert(T.shape, (4,4))\n"
     ]
    }
   ],
   "source": [
    "def quaternion_rotation_matrix(Q, T):\n",
    "    q0 = Q[0]\n",
    "    q1 = Q[1]\n",
    "    q2 = Q[2]\n",
    "    q3 = Q[3]\n",
    "    \n",
    "    tx = T[0]\n",
    "    ty = T[1]\n",
    "    tz = T[2]\n",
    "    \n",
    "    # First row of the rotation matrix\n",
    "    r00 = 2 * (q0 * q0 + q1 * q1) - 1\n",
    "    r01 = 2 * (q1 * q2 - q0 * q3)\n",
    "    r02 = 2 * (q1 * q3 + q0 * q2)\n",
    "     \n",
    "    # Second row of the rotation matrix\n",
    "    r10 = 2 * (q1 * q2 + q0 * q3)\n",
    "    r11 = 2 * (q0 * q0 + q2 * q2) - 1\n",
    "    r12 = 2 * (q2 * q3 - q0 * q1)\n",
    "     \n",
    "    # Third row of the rotation matrix\n",
    "    r20 = 2 * (q1 * q3 - q0 * q2)\n",
    "    r21 = 2 * (q2 * q3 + q0 * q1)\n",
    "    r22 = 2 * (q0 * q0 + q3 * q3) - 1\n",
    "     \n",
    "    # 3x3 rotation matrix\n",
    "    rot_matrix = np.array([[r00, r01, r02],\n",
    "                           [r10, r11, r12],\n",
    "                           [r20, r21, r22]])\n",
    "    \n",
    "    translation_matrix = np.array([[tx],\n",
    "                                   [ty],\n",
    "                                   [tz]])\n",
    "                            \n",
    "    transformation_matrix = getTransformationMatrix(rot_matrix, translation_matrix)\n",
    "    return rot_matrix, translation_matrix, transformation_matrix\n",
    "\n",
    "def getTransformationMatrix(R, t):\n",
    "    # given Rotation matrix, R and translation matrix, t\n",
    "    # return the transformation matrix describing the combined motion, T\n",
    "    augment = np.array([0, 0, 0, 1]) # Converting to homogeneous matrix\n",
    "    R = np.array(R)\n",
    "    t = np.array(t)\n",
    "    if (t.shape == (3,)):\n",
    "        t = t.reshape((3,1))\n",
    "    T = np.hstack((R, t))\n",
    "    T = np.vstack((T, augment))\n",
    "    assert(T.shape, (4,4))\n",
    "    return T\n",
    "\n",
    "def getCameraIntrinsicMatrix(params):\n",
    "    # focal length, principlal point x, principal point y, distortion param \n",
    "    K = np.identity(3) # K: Callibration Matrix\n",
    "    K[0, 0] = params[0]\n",
    "    K[1, 1] = params[1]\n",
    "    K[0, 2] = params[2]\n",
    "    K[1, 2] = params[3]\n",
    "    return K\n"
   ]
  },
  {
   "cell_type": "code",
   "execution_count": 3,
   "id": "73e1c19f",
   "metadata": {},
   "outputs": [
    {
     "name": "stdout",
     "output_type": "stream",
     "text": [
      "628   424\n",
      "658   260\n",
      "884   180\n",
      "1073   525\n",
      "1288   417\n",
      "715   83\n",
      "410   214\n"
     ]
    }
   ],
   "source": [
    "imname = '00030.jpg'\n",
    "imfile = '/home/shivani/Documents/BuildingInspection/' + imname\n",
    "img = cv2.imread(imfile)\n",
    "cv2.imshow('image',img)\n",
    "\n",
    "coordinates = []\n",
    "def click_event(event, x, y, flags, params):\n",
    "  \n",
    "    # checking for left mouse clicks\n",
    "    if event == cv2.EVENT_LBUTTONDOWN:\n",
    "        print(x, ' ', y)  \n",
    "        cv2.imshow('image', img)\n",
    "        coordinates.append([x,y])\n",
    "  \n",
    "    # checking for right mouse clicks     \n",
    "    if event==cv2.EVENT_RBUTTONDOWN:\n",
    "        print(x, ' ', y)\n",
    "        cv2.imshow('image', img)\n",
    "        coordinates.append([x,y])\n",
    "\n",
    "# setting mouse hadler for the image\n",
    "# and calling the click_event() function\n",
    "cv2.setMouseCallback('image', click_event)\n",
    "\n",
    "# wait for a key to be pressed to exit\n",
    "cv2.waitKey(0)\n",
    "\n",
    "# close the window\n",
    "cv2.destroyAllWindows()"
   ]
  },
  {
   "cell_type": "code",
   "execution_count": 4,
   "id": "82d460f8",
   "metadata": {
    "scrolled": true
   },
   "outputs": [
    {
     "name": "stdout",
     "output_type": "stream",
     "text": [
      "7\n"
     ]
    }
   ],
   "source": [
    "print(len(coordinates))"
   ]
  },
  {
   "cell_type": "code",
   "execution_count": 5,
   "id": "ca81f2cd",
   "metadata": {},
   "outputs": [
    {
     "name": "stdout",
     "output_type": "stream",
     "text": [
      "No. of 2DPoints:  20\n",
      "[370410.0, 0.237232, -0.440943, 5.26491, 121.0, 122.0, 117.0, 3.28102, 160.0, 1610.0, 161.0, 907.0, 155.0, 3552.0, 152.0, 3298.0, 159.0, 4882.0, 157.0, 6437.0]\n",
      "263453\n"
     ]
    }
   ],
   "source": [
    "###### parse sfm files -- points3D.txt, cameras.txt and images.txt\n",
    "csv.field_size_limit(sys.maxsize)\n",
    "\n",
    "with open(myfile_points3D, 'r') as fd:\n",
    "    reader = csv.reader(fd)\n",
    "    rowArr = []\n",
    "    points_3d_ids = []\n",
    "    xyz_coords = []\n",
    "    rgb_vals = []\n",
    "    reproj_errs = []\n",
    "    tracks = []\n",
    "    for i,line in enumerate(reader):\n",
    "        rowArr.append(list(map(float, line[0].split())))\n",
    "        points_3d_ids.append(line[0].split()[0])\n",
    "        xyz_coords.append(line[0].split()[1:4])\n",
    "        rgb_vals.append(line[0].split()[4:7])\n",
    "        reproj_errs.append(line[0].split()[7])\n",
    "        tracks.append(line[0].split()[8:]) #(IMAGE_ID, POINT2D_IDX)\n",
    "        \n",
    "twoDPoints = rowArr[1]\n",
    "print('No. of 2DPoints: ', len(twoDPoints))\n",
    "print(twoDPoints)\n",
    "print(len(points_3d_ids))"
   ]
  },
  {
   "cell_type": "code",
   "execution_count": 6,
   "id": "38753a20",
   "metadata": {},
   "outputs": [
    {
     "name": "stdout",
     "output_type": "stream",
     "text": [
      "400\n",
      "['399', 'SIMPLE_RADIAL', '1920', '1080', '1534.87', '960', '540', '0.00945933']\n"
     ]
    }
   ],
   "source": [
    "csv.field_size_limit(sys.maxsize)\n",
    "\n",
    "with open(myfile_cameras, 'r') as fd2:\n",
    "    reader2 = csv.reader(fd2)\n",
    "    rowArr2 = []\n",
    "    camera_ids = []\n",
    "    width = 0\n",
    "    height = 0\n",
    "    params = [] # f, cx, cy, dist\n",
    "    for i,line in enumerate(reader2):\n",
    "#         rowArr2.append(list(map(float, line[0].split())))\n",
    "        rowArr2.append(list(line[0].split()))\n",
    "        camera_ids.append(line[0].split()[0])\n",
    "        params.append(line[0].split()[4:]) #(IMAGE_ID, POINT2D_IDX)\n",
    "        if (i == 0):\n",
    "            width = line[0].split()[2]\n",
    "            height = line[0].split()[3]\n",
    "            \n",
    "print(len(camera_ids))\n",
    "print(rowArr2[1])"
   ]
  },
  {
   "cell_type": "code",
   "execution_count": 7,
   "id": "85fdf936",
   "metadata": {
    "scrolled": false
   },
   "outputs": [],
   "source": [
    "csv.field_size_limit(sys.maxsize)\n",
    "\n",
    "with open(myfile_images, 'r') as fd3:\n",
    "    reader3 = csv.reader(fd3)\n",
    "    rowArr3 = []\n",
    "    rowArr3_2 = []\n",
    "    image_ids = []\n",
    "    Quats = []\n",
    "    Ts = []\n",
    "    camera_ids_of_images = []\n",
    "    image_names = []\n",
    "    \n",
    "#     keypoint_coords_all = [] # with 3d point id\n",
    "#     keypoint_coords_used = [] # with 3d point id\n",
    "    keypoints_x = []\n",
    "    keypoints_y = []\n",
    "    inds_3d_point = []\n",
    "    \n",
    "    for i,line in enumerate(reader3):\n",
    "#         rowArr3.append(list(map(float, line[0].split())))\n",
    "#         print('i',i)\n",
    "        if (i == 0):\n",
    "            width = line[0].split()[2]\n",
    "            height = line[0].split()[3]\n",
    "        if(i%2 == 0): # lines 0,2,4 ...\n",
    "            rowArr3.append(list(line[0].split()))\n",
    "            image_ids.append(line[0].split()[0])\n",
    "            Quats.append(line[0].split()[1:5])\n",
    "            Ts.append(line[0].split()[5:8])\n",
    "            camera_ids_of_images.append(line[0].split()[8])\n",
    "            image_names.append(line[0].split()[9])\n",
    "        elif(i%2 == 1):\n",
    "            rowArr3_2.append(list(line[0].split()))\n",
    "            keypoints_x.append(line[0].split()[0::3])\n",
    "            keypoints_y.append(line[0].split()[1::3])\n",
    "            inds_3d_point.append(line[0].split()[2::3])\n",
    "# print(len(camera_ids_of_images))\n",
    "# print(rowArr3[1])\n",
    "# print(rowArr3[2])"
   ]
  },
  {
   "cell_type": "code",
   "execution_count": null,
   "id": "eb2e29a4",
   "metadata": {},
   "outputs": [],
   "source": [
    "## filter un-used keypoints ie remove 2d points with 3d point index -1\n",
    "\n",
    "inds_used = []\n",
    "keypoints_x_used = []\n",
    "keypoints_y_used = []\n",
    "\n",
    "# inds_3d_point = list(map(int,inds_3d_point))\n",
    "# keypoints_x = list(map(float,keypoints_x))\n",
    "# keypoints_y = list(map(float,keypoints_y))\n",
    "# keypoints_x = list(map(round,keypoints_x))\n",
    "# keypoints_y = list(map(round,keypoints_y))\n",
    "\n",
    "for ind_ in range(len(inds_3d_point)):\n",
    "    inds_used_one_image = []\n",
    "    keypoints_x_used_one_image = []\n",
    "    keypoints_y_used_one_image = []\n",
    "    \n",
    "#     for _ind in range(len(list(map(int,inds_3d_point[ind_])))):\n",
    "    for _ind in range(len(inds_3d_point[ind_])):\n",
    "\n",
    "#         if list(map(int,inds_3d_point[ind_]))[_ind] != -1:\n",
    "        if inds_3d_point[ind_][_ind] != '-1':\n",
    "#             inds_used_one_image.append(list(map(int,inds_3d_point[ind_]))[_ind])\n",
    "#             keypoints_x_used_one_image.append(list(map(float,keypoints_x[ind_]))[_ind])\n",
    "#             keypoints_y_used_one_image.append(list(map(float,keypoints_y[ind_]))[_ind])\n",
    "            inds_used_one_image.append(inds_3d_point[ind_][_ind])\n",
    "            keypoints_x_used_one_image.append(keypoints_x[ind_][_ind])\n",
    "            keypoints_y_used_one_image.append(keypoints_y[ind_][_ind])\n",
    "            \n",
    "    keypoints_x_used.append(keypoints_x_used_one_image)\n",
    "    keypoints_y_used.append(keypoints_y_used_one_image)\n",
    "    inds_used.append(inds_used_one_image)\n",
    "\n",
    "print(len(keypoints_x_used))\n",
    "print(len(keypoints_y_used))\n",
    "print(len(inds_used))"
   ]
  },
  {
   "cell_type": "code",
   "execution_count": 9,
   "id": "5d9f141c",
   "metadata": {},
   "outputs": [
    {
     "ename": "IndexError",
     "evalue": "list index out of range",
     "output_type": "error",
     "traceback": [
      "\u001b[0;31m---------------------------------------------------------------------------\u001b[0m",
      "\u001b[0;31mIndexError\u001b[0m                                Traceback (most recent call last)",
      "\u001b[0;32m<ipython-input-9-05a14d517d16>\u001b[0m in \u001b[0;36m<module>\u001b[0;34m\u001b[0m\n\u001b[1;32m     14\u001b[0m \u001b[0;31m# row_arr = list(map(float,keypoints_x_used[imid,:]))\u001b[0m\u001b[0;34m\u001b[0m\u001b[0;34m\u001b[0m\u001b[0;34m\u001b[0m\u001b[0m\n\u001b[1;32m     15\u001b[0m \u001b[0;31m# col_arr = list(map(float,keypoints_y_used[imid,:]))\u001b[0m\u001b[0;34m\u001b[0m\u001b[0;34m\u001b[0m\u001b[0;34m\u001b[0m\u001b[0m\n\u001b[0;32m---> 16\u001b[0;31m \u001b[0mrow_arr\u001b[0m \u001b[0;34m=\u001b[0m \u001b[0mkeypoints_x_used\u001b[0m\u001b[0;34m[\u001b[0m\u001b[0mimid\u001b[0m\u001b[0;34m]\u001b[0m\u001b[0;34m[\u001b[0m\u001b[0;34m:\u001b[0m\u001b[0;34m]\u001b[0m\u001b[0;34m\u001b[0m\u001b[0;34m\u001b[0m\u001b[0m\n\u001b[0m\u001b[1;32m     17\u001b[0m \u001b[0mcol_arr\u001b[0m \u001b[0;34m=\u001b[0m \u001b[0mkeypoints_y_used\u001b[0m\u001b[0;34m[\u001b[0m\u001b[0mimid\u001b[0m\u001b[0;34m]\u001b[0m\u001b[0;34m[\u001b[0m\u001b[0;34m:\u001b[0m\u001b[0;34m]\u001b[0m\u001b[0;34m\u001b[0m\u001b[0;34m\u001b[0m\u001b[0m\n\u001b[1;32m     18\u001b[0m \u001b[0;34m\u001b[0m\u001b[0m\n",
      "\u001b[0;31mIndexError\u001b[0m: list index out of range"
     ]
    }
   ],
   "source": [
    "imid = image_names.index(imname)\n",
    "Q_imid = Quats[imid]\n",
    "t_imid = Ts[imid]\n",
    "rot_mat_imid, trans_mat_imid, T_imid = quaternion_rotation_matrix(list(map(float,Q_imid)), list(map(float,t_imid)))\n",
    "K_imid = getCameraIntrinsicMatrix(list(map(float,params[imid])))\n",
    "\n",
    "P_imid = np.matmul(K_imid,T_imid[:3,:]) #getProjMat\n",
    "P_imid = np.vstack((P_imid,[0, 0, 0, 1])) \n",
    "inv_P_temp_imid = np.linalg.pinv(P_imid)\n",
    "inv_P_imid = inv_P_temp_imid[:3,:] #getInvProjMat\n",
    "\n",
    "num_2d_imid = len(keypoints_x[imid][:])\n",
    "\n",
    "row_arr = list(map(float,keypoints_x_used[imid][:]))\n",
    "col_arr = list(map(float,keypoints_y_used[imid][:]))\n",
    "# row_arr = keypoints_x_used[imid][:]\n",
    "# col_arr = keypoints_y_used[imid][:]\n",
    "\n",
    "points_calculated_3d = []\n",
    "# for i in range(len(num_2d_imid)):\n",
    "for i in range(len(10)):\n",
    "\n",
    "#     row = round(row_arr[i])\n",
    "#     col = round(col_arr[i])\n",
    "#     depth = depthmap[row, col] #row, col are 2d coordinates of a point in the image\n",
    "    row = row_arr[i]\n",
    "    col = col_arr[i]\n",
    "    depth = 1\n",
    "    point_3d = np.matmul(inv_P_imid, [col * depth, row * depth, depth, 1].T)\n",
    "    points_calculated_3d.append(point_3d)"
   ]
  },
  {
   "cell_type": "code",
   "execution_count": null,
   "id": "76f906ca",
   "metadata": {},
   "outputs": [],
   "source": [
    "len(np.array(keypoints_x_used)[3])\n",
    "print(len(inds_used))"
   ]
  },
  {
   "cell_type": "code",
   "execution_count": null,
   "id": "d30d29de",
   "metadata": {},
   "outputs": [],
   "source": [
    "print('3d reconstructed point coords corresponding to 2d key points in image 00030.jpg', points_calculated_3d)"
   ]
  }
 ],
 "metadata": {
  "kernelspec": {
   "display_name": "Python 3",
   "language": "python",
   "name": "python3"
  },
  "language_info": {
   "codemirror_mode": {
    "name": "ipython",
    "version": 3
   },
   "file_extension": ".py",
   "mimetype": "text/x-python",
   "name": "python",
   "nbconvert_exporter": "python",
   "pygments_lexer": "ipython3",
   "version": "3.6.9"
  }
 },
 "nbformat": 4,
 "nbformat_minor": 5
}
