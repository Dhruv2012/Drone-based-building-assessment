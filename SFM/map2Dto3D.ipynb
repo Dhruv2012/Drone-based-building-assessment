{
 "cells": [
  {
   "cell_type": "code",
   "execution_count": 3,
   "id": "ec1bd9a4",
   "metadata": {},
   "outputs": [],
   "source": [
    "import numpy as np"
   ]
  },
  {
   "cell_type": "code",
   "execution_count": 4,
   "id": "0c1a85c9",
   "metadata": {},
   "outputs": [],
   "source": [
    "def quaternion_rotation_matrix(Q, T):\n",
    "    \"\"\"\n",
    "    Covert a quaternion into a full three-dimensional rotation matrix.\n",
    " \n",
    "    Input\n",
    "    :param Q: A 4 element array representing the quaternion (q0,q1,q2,q3) \n",
    " \n",
    "    Output\n",
    "    :return: A 3x3 element matrix representing the full 3D rotation matrix. \n",
    "             This rotation matrix converts a point in the local reference \n",
    "             frame to a point in the global reference frame.\n",
    "    \"\"\"\n",
    "    # Extract the values from Q\n",
    "    q0 = Q[0]\n",
    "    q1 = Q[1]\n",
    "    q2 = Q[2]\n",
    "    q3 = Q[3]\n",
    "    \n",
    "    tx = T[0]\n",
    "    ty = T[1]\n",
    "    tz = T[2]\n",
    "    \n",
    "    # First row of the rotation matrix\n",
    "    r00 = 2 * (q0 * q0 + q1 * q1) - 1\n",
    "    r01 = 2 * (q1 * q2 - q0 * q3)\n",
    "    r02 = 2 * (q1 * q3 + q0 * q2)\n",
    "     \n",
    "    # Second row of the rotation matrix\n",
    "    r10 = 2 * (q1 * q2 + q0 * q3)\n",
    "    r11 = 2 * (q0 * q0 + q2 * q2) - 1\n",
    "    r12 = 2 * (q2 * q3 - q0 * q1)\n",
    "     \n",
    "    # Third row of the rotation matrix\n",
    "    r20 = 2 * (q1 * q3 - q0 * q2)\n",
    "    r21 = 2 * (q2 * q3 + q0 * q1)\n",
    "    r22 = 2 * (q0 * q0 + q3 * q3) - 1\n",
    "     \n",
    "    # 3x3 rotation matrix\n",
    "    rot_matrix = np.array([[r00, r01, r02],\n",
    "                           [r10, r11, r12],\n",
    "                           [r20, r21, r22]])\n",
    "    \n",
    "    translation_matrix = np.array([[tx],\n",
    "                                   [ty],\n",
    "                                   [tz]])\n",
    "                            \n",
    "    return rot_matrix, translation_matrix"
   ]
  },
  {
   "cell_type": "code",
   "execution_count": 11,
   "id": "d549d169",
   "metadata": {},
   "outputs": [],
   "source": [
    "# [0.999624, -0.0232377, -0.00441006, 0.0138727], [0.0877391, -5.68903, -1.18716]\n",
    "# [0.999578, -0.0241463, -0.0054248, 0.015219], [0.0443816, -5.26152, -1.21401]\n",
    "R, T = quaternion_rotation_matrix([0.999578, -0.0241463, -0.0054248, 0.015219], [0.0443816, -5.26152, -1.21401])"
   ]
  },
  {
   "cell_type": "code",
   "execution_count": 18,
   "id": "499966e3",
   "metadata": {},
   "outputs": [
    {
     "name": "stdout",
     "output_type": "stream",
     "text": [
      "start3D: [[274.93930399]\n",
      " [ 68.13294465]\n",
      " [ -1.56195152]]\n",
      "end3D: [[479.09877346]\n",
      " [264.26777304]\n",
      " [ -8.64193439]]\n"
     ]
    }
   ],
   "source": [
    "## 2.950000000000000000e+02,3.700000000000000000e+01,4.600000000000000000e+02,1.900000000000000000e+02\n",
    "## 2.770000000000000000e+02,6.500000000000000000e+01,4.870000000000000000e+02,2.550000000000000000e+02,6.930000000000000000e+02,6.700000000000000000e+01,8.930000000000000000e+02,2.500000000000000000e+02\n",
    "sX, sY, eX, eY = 2.770000000000000000e+02,6.500000000000000000e+01,4.870000000000000000e+02,2.550000000000000000e+02\n",
    "start3D = np.matmul(R, np.array([[sX], [sY], [0]])) + T\n",
    "end3D = np.matmul(R, np.array([[eX], [eY], [0]])) + T\n",
    "print('start3D:', start3D)\n",
    "print('end3D:', end3D)"
   ]
  },
  {
   "cell_type": "code",
   "execution_count": 15,
   "id": "4f9bf3fc",
   "metadata": {},
   "outputs": [
    {
     "name": "stderr",
     "output_type": "stream",
     "text": [
      "<>:2: SyntaxWarning: list indices must be integers or slices, not float; perhaps you missed a comma?\n",
      "<>:5: SyntaxWarning: list indices must be integers or slices, not float; perhaps you missed a comma?\n",
      "<>:2: SyntaxWarning: list indices must be integers or slices, not float; perhaps you missed a comma?\n",
      "<>:5: SyntaxWarning: list indices must be integers or slices, not float; perhaps you missed a comma?\n",
      "<ipython-input-15-69a970e65c5d>:2: SyntaxWarning: list indices must be integers or slices, not float; perhaps you missed a comma?\n",
      "  start3D: [[293.94412671]\n"
     ]
    },
    {
     "ename": "TypeError",
     "evalue": "list indices must be integers or slices, not float",
     "output_type": "error",
     "traceback": [
      "\u001b[1;31m---------------------------------------------------------------------------\u001b[0m",
      "\u001b[1;31mTypeError\u001b[0m                                 Traceback (most recent call last)",
      "\u001b[1;32m<ipython-input-15-69a970e65c5d>\u001b[0m in \u001b[0;36m<module>\u001b[1;34m\u001b[0m\n\u001b[0;32m      1\u001b[0m \u001b[1;31m###\u001b[0m\u001b[1;33m\u001b[0m\u001b[1;33m\u001b[0m\u001b[1;33m\u001b[0m\u001b[0m\n\u001b[1;32m----> 2\u001b[1;33m start3D: [[293.94412671]\n\u001b[0m\u001b[0;32m      3\u001b[0m  \u001b[1;33m[\u001b[0m \u001b[1;36m39.49905013\u001b[0m\u001b[1;33m]\u001b[0m\u001b[1;33m\u001b[0m\u001b[1;33m\u001b[0m\u001b[0m\n\u001b[0;32m      4\u001b[0m  [ -0.49987153]]\n\u001b[0;32m      5\u001b[0m end3D: [[454.66211901]\n",
      "\u001b[1;31mTypeError\u001b[0m: list indices must be integers or slices, not float"
     ]
    }
   ],
   "source": [
    "###\n",
    "start3D: [[293.94412671]\n",
    " [ 39.49905013]\n",
    " [ -0.49987153]]\n",
    "end3D: [[454.66211901]\n",
    " [196.88502064]\n",
    " [ -6.27826438]]"
   ]
  },
  {
   "cell_type": "code",
   "execution_count": null,
   "id": "9b788ff6",
   "metadata": {},
   "outputs": [],
   "source": []
  }
 ],
 "metadata": {
  "kernelspec": {
   "display_name": "Python 3",
   "language": "python",
   "name": "python3"
  },
  "language_info": {
   "codemirror_mode": {
    "name": "ipython",
    "version": 3
   },
   "file_extension": ".py",
   "mimetype": "text/x-python",
   "name": "python",
   "nbconvert_exporter": "python",
   "pygments_lexer": "ipython3",
   "version": "3.8.8"
  }
 },
 "nbformat": 4,
 "nbformat_minor": 5
}
