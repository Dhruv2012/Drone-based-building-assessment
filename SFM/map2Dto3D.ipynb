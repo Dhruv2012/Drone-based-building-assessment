{
 "cells": [
  {
   "cell_type": "code",
   "execution_count": 1,
   "id": "7a6f3384",
   "metadata": {},
   "outputs": [],
   "source": [
    "import numpy as np"
   ]
  },
  {
   "cell_type": "markdown",
   "id": "cfbe3aa2",
   "metadata": {},
   "source": [
    "### Extrinsic Matrix calculation"
   ]
  },
  {
   "cell_type": "code",
   "execution_count": 5,
   "id": "63bbd750",
   "metadata": {},
   "outputs": [
    {
     "name": "stderr",
     "output_type": "stream",
     "text": [
      "<>:60: SyntaxWarning: assertion is always true, perhaps remove parentheses?\n",
      "<>:67: SyntaxWarning: assertion is always true, perhaps remove parentheses?\n",
      "<>:60: SyntaxWarning: assertion is always true, perhaps remove parentheses?\n",
      "<>:67: SyntaxWarning: assertion is always true, perhaps remove parentheses?\n",
      "<ipython-input-5-a7acb9428bd8>:60: SyntaxWarning: assertion is always true, perhaps remove parentheses?\n",
      "  assert(T.shape, (4,4))\n",
      "<ipython-input-5-a7acb9428bd8>:67: SyntaxWarning: assertion is always true, perhaps remove parentheses?\n",
      "  assert(T.shape, (4,4))\n"
     ]
    }
   ],
   "source": [
    "def quaternion_rotation_matrix(Q, T):\n",
    "    \"\"\"\n",
    "    Covert a quaternion into a full three-dimensional rotation matrix.\n",
    " \n",
    "    Input\n",
    "    :param Q: A 4 element array representing the quaternion (q0,q1,q2,q3) \n",
    " \n",
    "    Output\n",
    "    :return: A 3x3 element matrix representing the full 3D rotation matrix. \n",
    "             This rotation matrix converts a point in the local reference \n",
    "             frame to a point in the global reference frame.\n",
    "    \"\"\"\n",
    "    # Extract the values from Q\n",
    "    q0 = Q[0]\n",
    "    q1 = Q[1]\n",
    "    q2 = Q[2]\n",
    "    q3 = Q[3]\n",
    "    \n",
    "    tx = T[0]\n",
    "    ty = T[1]\n",
    "    tz = T[2]\n",
    "    \n",
    "    # First row of the rotation matrix\n",
    "    r00 = 2 * (q0 * q0 + q1 * q1) - 1\n",
    "    r01 = 2 * (q1 * q2 - q0 * q3)\n",
    "    r02 = 2 * (q1 * q3 + q0 * q2)\n",
    "     \n",
    "    # Second row of the rotation matrix\n",
    "    r10 = 2 * (q1 * q2 + q0 * q3)\n",
    "    r11 = 2 * (q0 * q0 + q2 * q2) - 1\n",
    "    r12 = 2 * (q2 * q3 - q0 * q1)\n",
    "     \n",
    "    # Third row of the rotation matrix\n",
    "    r20 = 2 * (q1 * q3 - q0 * q2)\n",
    "    r21 = 2 * (q2 * q3 + q0 * q1)\n",
    "    r22 = 2 * (q0 * q0 + q3 * q3) - 1\n",
    "     \n",
    "    # 3x3 rotation matrix\n",
    "    rot_matrix = np.array([[r00, r01, r02],\n",
    "                           [r10, r11, r12],\n",
    "                           [r20, r21, r22]])\n",
    "    \n",
    "    translation_matrix = np.array([[tx],\n",
    "                                   [ty],\n",
    "                                   [tz]])\n",
    "                            \n",
    "    transformation_matrix = getTransformation(rot_matrix, translation_matrix)\n",
    "    return rot_matrix, translation_matrix, transformation_matrix\n",
    "\n",
    "def getTransformation(R, t):\n",
    "    # given Rotation matrix, R and translation matrix, t\n",
    "    # return the transformation matrix describing the combined motion, T\n",
    "    augment = np.array([0, 0, 0, 1]) # Converting to homogeneous matrix\n",
    "    R = np.array(R)\n",
    "    t = np.array(t)\n",
    "    if (t.shape == (3,)):\n",
    "        t = t.reshape((3,1))\n",
    "    T = np.hstack((R, t))\n",
    "    T = np.vstack((T, augment))\n",
    "    assert(T.shape, (4,4))\n",
    "    return T\n",
    "\n",
    "# Inverse of a Transformation matrix\n",
    "def getInverseTransform(T):\n",
    "    # Given a transformation, T that moves(rotates and translates) a point from A\n",
    "    # to B, return inv_T transformation that restores the point back to A.\n",
    "    assert(T.shape, (4,4))\n",
    "    R = T[:3,:3]\n",
    "    R_inv = R.T\n",
    "    t = T[:3,3]\n",
    "    t_inv = -1 * np.matmul(R_inv, t)\n",
    "    T_inv = np.hstack((R_inv, t_inv))\n",
    "    augment = np.array([0, 0, 0, 1]) # Converting to homogeneous matrix\n",
    "    T_inv = np.vstack((T_inv, augment))\n",
    "    return T_inv\n",
    "\n",
    "def mapto3D(T, K, coordMatrix2D):\n",
    "    '''\n",
    "        T: transformation matrix\n",
    "        K: intrinsic matrix\n",
    "        coordMatrix2D: 2d coordinates = [u v 1]^transpose\n",
    "    \n",
    "        coordMatrix3D: 3d coorinates = [x_w y_w z_w 1]^transpose\n",
    "    '''\n",
    "    print('T shape:', T.shape)\n",
    "    T_inv = getInverseTransform(T)\n",
    "    K_inv = None\n",
    "    coordMatrix3D = None\n",
    "    try:\n",
    "        K_inv = np.linalg.inv(K)\n",
    "        coordMatrix3D = np.matmul(np.matmul(T_inv, K_inv), coordMatrix2D)\n",
    "    except numpy.linalg.LinAlgError:\n",
    "        # Not invertible. Skip this one.\n",
    "        print('K is Singular matrix - non invertible')\n",
    "        pass\n",
    "    \n",
    "    return coordMatrix3D"
   ]
  },
  {
   "cell_type": "markdown",
   "id": "13975aea",
   "metadata": {},
   "source": [
    "### Intrinsic Matrix calculation\n",
    "#### NOTE: Please cross-check below params once"
   ]
  },
  {
   "cell_type": "code",
   "execution_count": 6,
   "id": "be02b304",
   "metadata": {},
   "outputs": [],
   "source": [
    "'''\n",
    "alphaX: focalLength in x in pixels\n",
    "alphaY: focalLenght in y in pixels\n",
    "u0 = principal point in X\n",
    "v0 = principal point in y\n",
    "gamma: skew coeff between x and y axis. is commonly 0\n",
    "'''\n",
    "alphaX = 960\n",
    "alphaY = 960\n",
    "u0 = 480\n",
    "v0 = 360\n",
    "gamma = 0\n",
    "\n",
    "K = np.array([[alphaX, gamma, u0, 0],\n",
    "              [0,     alphaY, v0, 0],\n",
    "              [0,     0,      1,  0]])"
   ]
  },
  {
   "cell_type": "code",
   "execution_count": 7,
   "id": "403d5e1b",
   "metadata": {},
   "outputs": [
    {
     "name": "stdout",
     "output_type": "stream",
     "text": [
      "T shape: (4, 4)\n"
     ]
    },
    {
     "ename": "ValueError",
     "evalue": "all the input arrays must have same number of dimensions, but the array at index 0 has 2 dimension(s) and the array at index 1 has 1 dimension(s)",
     "output_type": "error",
     "traceback": [
      "\u001b[1;31m---------------------------------------------------------------------------\u001b[0m",
      "\u001b[1;31mValueError\u001b[0m                                Traceback (most recent call last)",
      "\u001b[1;32m<ipython-input-7-5101aff2d078>\u001b[0m in \u001b[0;36m<module>\u001b[1;34m\u001b[0m\n\u001b[0;32m     25\u001b[0m \u001b[0mend2D\u001b[0m \u001b[1;33m=\u001b[0m \u001b[0mnp\u001b[0m\u001b[1;33m.\u001b[0m\u001b[0marray\u001b[0m\u001b[1;33m(\u001b[0m\u001b[1;33m[\u001b[0m\u001b[1;33m[\u001b[0m\u001b[0meX\u001b[0m\u001b[1;33m]\u001b[0m\u001b[1;33m,\u001b[0m \u001b[1;33m[\u001b[0m\u001b[0meY\u001b[0m\u001b[1;33m]\u001b[0m\u001b[1;33m,\u001b[0m \u001b[1;33m[\u001b[0m\u001b[1;36m1\u001b[0m\u001b[1;33m]\u001b[0m\u001b[1;33m]\u001b[0m\u001b[1;33m)\u001b[0m\u001b[1;33m\u001b[0m\u001b[1;33m\u001b[0m\u001b[0m\n\u001b[0;32m     26\u001b[0m \u001b[1;33m\u001b[0m\u001b[0m\n\u001b[1;32m---> 27\u001b[1;33m \u001b[0mstart3D\u001b[0m \u001b[1;33m=\u001b[0m \u001b[0mmapto3D\u001b[0m\u001b[1;33m(\u001b[0m\u001b[0mT\u001b[0m\u001b[1;33m,\u001b[0m \u001b[0mK\u001b[0m\u001b[1;33m,\u001b[0m \u001b[0mstart2D\u001b[0m\u001b[1;33m)\u001b[0m\u001b[1;33m\u001b[0m\u001b[1;33m\u001b[0m\u001b[0m\n\u001b[0m\u001b[0;32m     28\u001b[0m \u001b[0mend3D\u001b[0m \u001b[1;33m=\u001b[0m \u001b[0mmapto3D\u001b[0m\u001b[1;33m(\u001b[0m\u001b[0mT\u001b[0m\u001b[1;33m,\u001b[0m \u001b[0mK\u001b[0m\u001b[1;33m,\u001b[0m \u001b[0mend2D\u001b[0m\u001b[1;33m)\u001b[0m\u001b[1;33m\u001b[0m\u001b[1;33m\u001b[0m\u001b[0m\n\u001b[0;32m     29\u001b[0m \u001b[1;33m\u001b[0m\u001b[0m\n",
      "\u001b[1;32m<ipython-input-5-a7acb9428bd8>\u001b[0m in \u001b[0;36mmapto3D\u001b[1;34m(T, K, coordMatrix2D)\u001b[0m\n\u001b[0;32m     84\u001b[0m     '''\n\u001b[0;32m     85\u001b[0m     \u001b[0mprint\u001b[0m\u001b[1;33m(\u001b[0m\u001b[1;34m'T shape:'\u001b[0m\u001b[1;33m,\u001b[0m \u001b[0mT\u001b[0m\u001b[1;33m.\u001b[0m\u001b[0mshape\u001b[0m\u001b[1;33m)\u001b[0m\u001b[1;33m\u001b[0m\u001b[1;33m\u001b[0m\u001b[0m\n\u001b[1;32m---> 86\u001b[1;33m     \u001b[0mT_inv\u001b[0m \u001b[1;33m=\u001b[0m \u001b[0mgetInverseTransform\u001b[0m\u001b[1;33m(\u001b[0m\u001b[0mT\u001b[0m\u001b[1;33m)\u001b[0m\u001b[1;33m\u001b[0m\u001b[1;33m\u001b[0m\u001b[0m\n\u001b[0m\u001b[0;32m     87\u001b[0m     \u001b[0mK_inv\u001b[0m \u001b[1;33m=\u001b[0m \u001b[1;32mNone\u001b[0m\u001b[1;33m\u001b[0m\u001b[1;33m\u001b[0m\u001b[0m\n\u001b[0;32m     88\u001b[0m     \u001b[0mcoordMatrix3D\u001b[0m \u001b[1;33m=\u001b[0m \u001b[1;32mNone\u001b[0m\u001b[1;33m\u001b[0m\u001b[1;33m\u001b[0m\u001b[0m\n",
      "\u001b[1;32m<ipython-input-5-a7acb9428bd8>\u001b[0m in \u001b[0;36mgetInverseTransform\u001b[1;34m(T)\u001b[0m\n\u001b[0;32m     70\u001b[0m     \u001b[0mt\u001b[0m \u001b[1;33m=\u001b[0m \u001b[0mT\u001b[0m\u001b[1;33m[\u001b[0m\u001b[1;33m:\u001b[0m\u001b[1;36m3\u001b[0m\u001b[1;33m,\u001b[0m\u001b[1;36m3\u001b[0m\u001b[1;33m]\u001b[0m\u001b[1;33m\u001b[0m\u001b[1;33m\u001b[0m\u001b[0m\n\u001b[0;32m     71\u001b[0m     \u001b[0mt_inv\u001b[0m \u001b[1;33m=\u001b[0m \u001b[1;33m-\u001b[0m\u001b[1;36m1\u001b[0m \u001b[1;33m*\u001b[0m \u001b[0mnp\u001b[0m\u001b[1;33m.\u001b[0m\u001b[0mmatmul\u001b[0m\u001b[1;33m(\u001b[0m\u001b[0mR_inv\u001b[0m\u001b[1;33m,\u001b[0m \u001b[0mt\u001b[0m\u001b[1;33m)\u001b[0m\u001b[1;33m\u001b[0m\u001b[1;33m\u001b[0m\u001b[0m\n\u001b[1;32m---> 72\u001b[1;33m     \u001b[0mT_inv\u001b[0m \u001b[1;33m=\u001b[0m \u001b[0mnp\u001b[0m\u001b[1;33m.\u001b[0m\u001b[0mhstack\u001b[0m\u001b[1;33m(\u001b[0m\u001b[1;33m(\u001b[0m\u001b[0mR_inv\u001b[0m\u001b[1;33m,\u001b[0m \u001b[0mt_inv\u001b[0m\u001b[1;33m)\u001b[0m\u001b[1;33m)\u001b[0m\u001b[1;33m\u001b[0m\u001b[1;33m\u001b[0m\u001b[0m\n\u001b[0m\u001b[0;32m     73\u001b[0m     \u001b[0maugment\u001b[0m \u001b[1;33m=\u001b[0m \u001b[0mnp\u001b[0m\u001b[1;33m.\u001b[0m\u001b[0marray\u001b[0m\u001b[1;33m(\u001b[0m\u001b[1;33m[\u001b[0m\u001b[1;36m0\u001b[0m\u001b[1;33m,\u001b[0m \u001b[1;36m0\u001b[0m\u001b[1;33m,\u001b[0m \u001b[1;36m0\u001b[0m\u001b[1;33m,\u001b[0m \u001b[1;36m1\u001b[0m\u001b[1;33m]\u001b[0m\u001b[1;33m)\u001b[0m \u001b[1;31m# Converting to homogeneous matrix\u001b[0m\u001b[1;33m\u001b[0m\u001b[1;33m\u001b[0m\u001b[0m\n\u001b[0;32m     74\u001b[0m     \u001b[0mT_inv\u001b[0m \u001b[1;33m=\u001b[0m \u001b[0mnp\u001b[0m\u001b[1;33m.\u001b[0m\u001b[0mvstack\u001b[0m\u001b[1;33m(\u001b[0m\u001b[1;33m(\u001b[0m\u001b[0mT_inv\u001b[0m\u001b[1;33m,\u001b[0m \u001b[0maugment\u001b[0m\u001b[1;33m)\u001b[0m\u001b[1;33m)\u001b[0m\u001b[1;33m\u001b[0m\u001b[1;33m\u001b[0m\u001b[0m\n",
      "\u001b[1;32m<__array_function__ internals>\u001b[0m in \u001b[0;36mhstack\u001b[1;34m(*args, **kwargs)\u001b[0m\n",
      "\u001b[1;32m~\\Anaconda3\\envs\\droneiiitHCloneWithCVContrib\\lib\\site-packages\\numpy\\core\\shape_base.py\u001b[0m in \u001b[0;36mhstack\u001b[1;34m(tup)\u001b[0m\n\u001b[0;32m    344\u001b[0m         \u001b[1;32mreturn\u001b[0m \u001b[0m_nx\u001b[0m\u001b[1;33m.\u001b[0m\u001b[0mconcatenate\u001b[0m\u001b[1;33m(\u001b[0m\u001b[0marrs\u001b[0m\u001b[1;33m,\u001b[0m \u001b[1;36m0\u001b[0m\u001b[1;33m)\u001b[0m\u001b[1;33m\u001b[0m\u001b[1;33m\u001b[0m\u001b[0m\n\u001b[0;32m    345\u001b[0m     \u001b[1;32melse\u001b[0m\u001b[1;33m:\u001b[0m\u001b[1;33m\u001b[0m\u001b[1;33m\u001b[0m\u001b[0m\n\u001b[1;32m--> 346\u001b[1;33m         \u001b[1;32mreturn\u001b[0m \u001b[0m_nx\u001b[0m\u001b[1;33m.\u001b[0m\u001b[0mconcatenate\u001b[0m\u001b[1;33m(\u001b[0m\u001b[0marrs\u001b[0m\u001b[1;33m,\u001b[0m \u001b[1;36m1\u001b[0m\u001b[1;33m)\u001b[0m\u001b[1;33m\u001b[0m\u001b[1;33m\u001b[0m\u001b[0m\n\u001b[0m\u001b[0;32m    347\u001b[0m \u001b[1;33m\u001b[0m\u001b[0m\n\u001b[0;32m    348\u001b[0m \u001b[1;33m\u001b[0m\u001b[0m\n",
      "\u001b[1;32m<__array_function__ internals>\u001b[0m in \u001b[0;36mconcatenate\u001b[1;34m(*args, **kwargs)\u001b[0m\n",
      "\u001b[1;31mValueError\u001b[0m: all the input arrays must have same number of dimensions, but the array at index 0 has 2 dimension(s) and the array at index 1 has 1 dimension(s)"
     ]
    }
   ],
   "source": [
    "# [0.999624, -0.0232377, -0.00441006, 0.0138727], [0.0877391, -5.68903, -1.18716]\n",
    "# [0.999578, -0.0241463, -0.0054248, 0.015219], [0.0443816, -5.26152, -1.21401]\n",
    "'''\n",
    "Input below to quaternion_rotation_matrix() is of a single Image from COLMAP files i.e. Quartenions and Translation matrix  \n",
    "'''\n",
    "rotate_matrix, translation_matrix, T = quaternion_rotation_matrix([0.999578, -0.0241463, -0.0054248, 0.015219], [0.0443816, -5.26152, -1.21401])\n",
    "\n",
    "## 2.950000000000000000e+02,3.700000000000000000e+01,4.600000000000000000e+02,1.900000000000000000e+02\n",
    "## 2.770000000000000000e+02,6.500000000000000000e+01,4.870000000000000000e+02,2.550000000000000000e+02,6.930000000000000000e+02,6.700000000000000000e+01,8.930000000000000000e+02,2.500000000000000000e+02\n",
    "'''\n",
    "Input below is coordinates of windows in an image from our generated CSV files \n",
    "'''\n",
    "sX, sY, eX, eY = 2.770000000000000000e+02,6.500000000000000000e+01,4.870000000000000000e+02,2.550000000000000000e+02\n",
    "\n",
    "# start3D = np.matmul(R, np.array([[sX], [sY], [0]])) + t\n",
    "# end3D = np.matmul(R, np.array([[eX], [eY], [0]])) + t\n",
    "\n",
    "'''\n",
    "start2D: start 2D(left top) coordinate of window\n",
    "end2D: end 2D(right bottom) coordinate of window\n",
    "start3D: start 3D(left top) coordinate of window\n",
    "end3D: end 3D(right bottom) coordinate of window\n",
    "'''\n",
    "start2D = np.array([[sX], [sY], [1]])\n",
    "end2D = np.array([[eX], [eY], [1]])\n",
    "\n",
    "start3D = mapto3D(T, K, start2D)\n",
    "end3D = mapto3D(T, K, end2D)\n",
    "\n",
    "print('start3D:', start3D)\n",
    "print('end3D:', end3D)"
   ]
  },
  {
   "cell_type": "code",
   "execution_count": null,
   "id": "2b351906",
   "metadata": {},
   "outputs": [],
   "source": [
    "###\n",
    "'''\n",
    "start3D: [[293.94412671]\n",
    " [ 39.49905013]\n",
    " [ -0.49987153]]\n",
    "end3D: [[454.66211901]\n",
    " [196.88502064]\n",
    " [ -6.27826438]]\n",
    "'''"
   ]
  },
  {
   "cell_type": "code",
   "execution_count": null,
   "id": "5d9f6a67",
   "metadata": {},
   "outputs": [],
   "source": [
    "\n",
    "    "
   ]
  }
 ],
 "metadata": {
  "kernelspec": {
   "display_name": "Python 3",
   "language": "python",
   "name": "python3"
  },
  "language_info": {
   "codemirror_mode": {
    "name": "ipython",
    "version": 3
   },
   "file_extension": ".py",
   "mimetype": "text/x-python",
   "name": "python",
   "nbconvert_exporter": "python",
   "pygments_lexer": "ipython3",
   "version": "3.8.8"
  }
 },
 "nbformat": 4,
 "nbformat_minor": 5
}
